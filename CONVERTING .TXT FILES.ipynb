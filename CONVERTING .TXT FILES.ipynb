{
 "cells": [
  {
   "cell_type": "code",
   "execution_count": 29,
   "metadata": {},
   "outputs": [
    {
     "name": "stdout",
     "output_type": "stream",
     "text": [
      "txt:  5768\n",
      "txt:  6196\n",
      "txt:  6050\n",
      "txt:  5768\n",
      "txt:  6668\n",
      "txt:  6026\n",
      "txt:  5040\n",
      "txt:  5806\n",
      "txt:  5982\n",
      "txt:  6128\n",
      "txt:  6202\n",
      "txt:  5910\n",
      "txt:  6870\n",
      "txt:  6052\n",
      "txt:  6318\n",
      "txt:  6258\n",
      "txt:  5984\n",
      "txt:  6072\n",
      "txt:  5820\n",
      "txt:  6704\n"
     ]
    }
   ],
   "source": [
    "import numpy as np\n",
    "import matplotlib.pyplot as plt\n",
    "import os\n",
    "import glob\n",
    "import math\n",
    "import pandas as pd\n",
    "import scipy as scp\n",
    "from scipy import signal\n",
    "import sys\n",
    "from pylab import *\n",
    "# import scipy.signal\n",
    "from spectrum import *\n",
    "import time\n",
    "\n",
    "\n",
    "path = 'G:/EEG Project/DREAMS database/data raw/'\n",
    "txt_files = glob.glob(path + '*.txt')\n",
    "for txt in txt_files:\n",
    "    tf = pd.read_table(txt, header=0)\n",
    "    print('txt: ',len(tf))\n",
    "    tf['[HypnogramAASM]'].replace([-1, -2, -3], 6, inplace=True)\n",
    "    tf.to_csv(txt+'.csv')"
   ]
  },
  {
   "cell_type": "code",
   "execution_count": null,
   "metadata": {},
   "outputs": [],
   "source": []
  }
 ],
 "metadata": {
  "kernelspec": {
   "display_name": "Python 3",
   "language": "python",
   "name": "python3"
  },
  "language_info": {
   "codemirror_mode": {
    "name": "ipython",
    "version": 3
   },
   "file_extension": ".py",
   "mimetype": "text/x-python",
   "name": "python",
   "nbconvert_exporter": "python",
   "pygments_lexer": "ipython3",
   "version": "3.6.4"
  }
 },
 "nbformat": 4,
 "nbformat_minor": 2
}
