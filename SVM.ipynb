{
 "cells": [
  {
   "cell_type": "markdown",
   "metadata": {},
   "source": [
    "# SVM"
   ]
  },
  {
   "cell_type": "code",
   "execution_count": 1,
   "metadata": {},
   "outputs": [
    {
     "name": "stderr",
     "output_type": "stream",
     "text": [
      "C:\\ProgramData\\Anaconda3\\lib\\site-packages\\sklearn\\cross_validation.py:41: DeprecationWarning: This module was deprecated in version 0.18 in favor of the model_selection module into which all the refactored classes and functions are moved. Also note that the interface of the new CV iterators are different from that of this module. This module will be removed in 0.20.\n",
      "  \"This module will be removed in 0.20.\", DeprecationWarning)\n"
     ]
    },
    {
     "name": "stdout",
     "output_type": "stream",
     "text": [
      "Scores of value higher than intended:  False\n",
      "Is nan should be false, Result:  False\n",
      "Is finite should be true, Result:  True\n"
     ]
    }
   ],
   "source": [
    "import pandas as pd\n",
    "import numpy as np\n",
    "import matplotlib.pyplot as plt\n",
    "from sklearn.cross_validation import train_test_split\n",
    "from sklearn import svm\n",
    "from sklearn.metrics import confusion_matrix, accuracy_score\n",
    "from sklearn.ensemble import RandomForestClassifier\n",
    "from sklearn.neighbors import KNeighborsClassifier\n",
    "import time\n",
    "import sys\n",
    "import warnings\n",
    "\n",
    "if not sys.warnoptions:\n",
    "    warnings.simplefilter(\"ignore\")\n",
    "    \n",
    "features = pd.read_csv('time_features_Oz-Fpz/combined_features.csv',index_col=0)\n",
    "features = features[~np.isnan(features['scores'])]\n",
    "features = features[features.scores < 6]\n",
    "features.head()\n",
    "X = features[['std', 'skewness', 'ZCR', 'mean', 'min', 'max', 'kurtosis', '25%', '75%', '50%']]\n",
    "y = features['scores']\n",
    "X_train, X_test, y_train, y_test = train_test_split(X, y, random_state=0)\n",
    "\n",
    "is_nan = np.any(np.isnan(y_train))\n",
    "is_finite = np.all(np.isfinite(y_train))\n",
    "print(\"Scores of value higher than intended: \", (y > 6).any())\n",
    "print(\"Is nan should be false, Result: \", is_nan)\n",
    "print(\"Is finite should be true, Result: \", is_finite)"
   ]
  },
  {
   "cell_type": "code",
   "execution_count": 2,
   "metadata": {},
   "outputs": [
    {
     "name": "stdout",
     "output_type": "stream",
     "text": [
      "Processing the 1 iteration...\n",
      "Completed!\n"
     ]
    }
   ],
   "source": [
    "from sklearn.preprocessing import MinMaxScaler\n",
    "size = 1\n",
    "\n",
    "Ac_array = np.zeros(size, )\n",
    "Se_array = np.zeros((size, 6))\n",
    "Sp_array = np.zeros((size, 6))\n",
    "t_array = np.zeros(size, )\n",
    "i_array = np.zeros(size, )\n",
    "\n",
    "for i in range(size):\n",
    "    print(\"Processing the \"+str(i+1)+\" iteration...\")\n",
    "    X_train = []\n",
    "    X_test = []\n",
    "    y_train = []\n",
    "    y_test = []\n",
    "    X_train, X_test, y_train, y_test = train_test_split(X, y, random_state=0)\n",
    "    scaling = MinMaxScaler(feature_range=(-1,1)).fit(X_train)\n",
    "    X_train = scaling.transform(X_train)\n",
    "    X_test = scaling.transform(X_test)\n",
    "    start = time.time()\n",
    "    clf = svm.SVC()\n",
    "    clf.fit(X_train, y_train)\n",
    "    end = time.time()\n",
    "    elapsed = end - start\n",
    "#     print(\"Time to complete: \", elapsed, \"seconds\")\n",
    "\n",
    "    predictions = clf.predict(X_test)\n",
    "\n",
    "    accuracy = accuracy_score(y_test, predictions)\n",
    "#     print(\"Accuracy: \" , accuracy)\n",
    "    CM = confusion_matrix(y_test, predictions)\n",
    "    FP = CM.sum(axis=0) - np.diag(CM)  \n",
    "    FN = CM.sum(axis=1) - np.diag(CM)\n",
    "    TP = np.diag(CM)\n",
    "    TN = CM.sum() - (FP + FN + TP)\n",
    "    Sensitivity = TP/(TP+FN)\n",
    "    Specificity = TN/(TN+FP)\n",
    "    \n",
    "    Ac_array[i] = accuracy\n",
    "    Se_array[i] = Sensitivity\n",
    "    Sp_array[i] = Specificity\n",
    "    t_array[i] = elapsed\n",
    "#     print(\"Specificity: \", Specificity.tolist())\n",
    "#     print(\"Sensitivity: \", Sensitivity.tolist())\n",
    "    print(\"Completed!\")"
   ]
  },
  {
   "cell_type": "code",
   "execution_count": 3,
   "metadata": {},
   "outputs": [],
   "source": [
    "df = pd.DataFrame(Ac_array)\n",
    "df.columns = ['Accuracy']\n",
    "df1 = pd.DataFrame(t_array)\n",
    "df1.columns = ['time_elapsed']\n",
    "df2 = pd.DataFrame(Sp_array)\n",
    "df2.columns=['Sp0','Sp1','Sp2','Sp3','Sp4','Sp5',]\n",
    "df3 = pd.DataFrame(Se_array)\n",
    "df3.columns=['Se0','Se1','Se2','Se3','Se4','Se5',]\n",
    "result = pd.concat([df1, df, df3, df2], axis=1)\n",
    "result.to_csv(\"Results_SVM/results_SVM_Oz-Fpz.csv\")"
   ]
  }
 ],
 "metadata": {
  "kernelspec": {
   "display_name": "Python 3",
   "language": "python",
   "name": "python3"
  },
  "language_info": {
   "codemirror_mode": {
    "name": "ipython",
    "version": 3
   },
   "file_extension": ".py",
   "mimetype": "text/x-python",
   "name": "python",
   "nbconvert_exporter": "python",
   "pygments_lexer": "ipython3",
   "version": "3.6.4"
  }
 },
 "nbformat": 4,
 "nbformat_minor": 2
}
